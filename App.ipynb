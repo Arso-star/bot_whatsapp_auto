{
 "cells": [
  {
   "cell_type": "code",
   "execution_count": null,
   "metadata": {},
   "outputs": [],
   "source": [
    "import pandas as pd\n",
    "\n",
    "contatos_df = pd.read_excel(\"Enviar.xlsx\")\n",
    "display(contatos_df)"
   ]
  },
  {
   "cell_type": "code",
   "execution_count": 16,
   "metadata": {},
   "outputs": [],
   "source": [
    "from selenium import webdriver\n",
    "from selenium.webdriver.common.keys import Keys\n",
    "from selenium.webdriver.common.action_chains import ActionChains\n",
    "from selenium.webdriver.common.by import By\n",
    "import time\n",
    "import urllib.parse\n",
    "\n",
    "driver = webdriver.Firefox()\n",
    "driver.get(\"https://web.whatsapp.com/\")\n",
    "\n",
    "caixa = driver.find_element(By.XPATH, '/html/body/div[1]/div/div/div[4]/div/div[1]/div/div/div[2]/div/div/p')\n",
    "\n",
    "while caixa:\n",
    "    actions = ActionChains(driver)\n",
    "    actions.move_to_element(caixa)\n",
    "    actions.send_keys(Keys.ENTER)\n",
    "    actions.perform()\n",
    "\n",
    "    time.sleep(10)\n",
    "    \n",
    "    for i, mensagem in enumerate(contatos_df[\"Mensagem\"]):\n",
    "        pessoas = contatos_df.loc[i, \"Pessoas\"]\n",
    "        numeros = contatos_df.loc[i, \"Números\"]\n",
    "        texto = urllib.parse.quote(f'Oi {pessoas}! {mensagem}')\n",
    "        link = f\"https://web.whatsapp.com/send?phone={numeros}&text={texto}\"\n",
    "        driver.get(link)\n",
    "\n",
    "        time.sleep(15)"
   ]
  }
 ],
 "metadata": {
  "kernelspec": {
   "display_name": "Python 3",
   "language": "python",
   "name": "python3"
  },
  "language_info": {
   "codemirror_mode": {
    "name": "ipython",
    "version": 3
   },
   "file_extension": ".py",
   "mimetype": "text/x-python",
   "name": "python",
   "nbconvert_exporter": "python",
   "pygments_lexer": "ipython3",
   "version": "3.11.5"
  },
  "orig_nbformat": 4
 },
 "nbformat": 4,
 "nbformat_minor": 2
}
